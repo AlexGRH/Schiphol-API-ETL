{
 "cells": [
  {
   "cell_type": "code",
   "execution_count": 1,
   "metadata": {},
   "outputs": [
    {
     "data": {
      "text/plain": [
       "['config.ini']"
      ]
     },
     "execution_count": 1,
     "metadata": {},
     "output_type": "execute_result"
    }
   ],
   "source": [
    "import requests\n",
    "import json\n",
    "import mysql.connector\n",
    "import configparser\n",
    "import pandas as pd\n",
    "import numpy as np\n",
    "\n",
    "# read config file\n",
    "config = configparser.ConfigParser(interpolation=None)\n",
    "config.read('config.ini')\n"
   ]
  },
  {
   "cell_type": "code",
   "execution_count": 2,
   "metadata": {},
   "outputs": [],
   "source": [
    "# helper function\n",
    "def select_id(select, table, col, value):\n",
    "  '''Selects the id from a table given a certain value and column'''\n",
    "  try:\n",
    "    cursor.execute(f\"SELECT {select} FROM {table} WHERE {col} = {int(value)}\")\n",
    "  except:\n",
    "    cursor.execute(f\"\"\"SELECT {select} FROM {table} WHERE {col} = \"{value}\";\"\"\")\n",
    "  # return id\n",
    "  try:\n",
    "    return cursor.fetchone()[0]\n",
    "  except:\n",
    "    return 'null'"
   ]
  },
  {
   "cell_type": "code",
   "execution_count": 3,
   "metadata": {},
   "outputs": [],
   "source": [
    "# connect to database\n",
    "con = mysql.connector.connect(host=config['database']['host'], username=config['database']['username'], password=config['database']['pwd'], db=config['database']['db'], autocommit=True)\n",
    "cursor = con.cursor()"
   ]
  },
  {
   "cell_type": "code",
   "execution_count": 4,
   "metadata": {},
   "outputs": [],
   "source": [
    "url = \"https://api.schiphol.nl/public-flights\"\n",
    "\n",
    "app_id='4db3813e'\n",
    "app_key='a172bb92b7d530eaf9a7022d9afebd26'\n",
    "Accept= 'application/json'\n",
    "ResourceVersion= 'v4'\n",
    "headers = {'app_id':app_id,'app_key':app_key,'accept':Accept,'resourceversion':ResourceVersion}\n"
   ]
  },
  {
   "cell_type": "code",
   "execution_count": 5,
   "metadata": {},
   "outputs": [],
   "source": [
    "# aircraft\n",
    "res=requests.get(url = url+'/aircrafttypes', headers=headers)\n",
    "aircraftTypes = pd.DataFrame(json.loads(res.content)['aircraftTypes'])\n",
    "# insert manufacturers\n",
    "for iataMain in aircraftTypes['iataMain'].unique():\n",
    "  cursor.execute(f\"INSERT IGNORE INTO Manufacturers (iataMain) VALUES ('{iataMain}')\")\n",
    "# insert aircraftTypes\n",
    "for i,row in aircraftTypes.iterrows():\n",
    "  idManufacturer = select_id('idManufacturer','Manufacturers','iataMain',row['iataMain'])\n",
    "  cursor.execute(f\"\"\"INSERT IGNORE INTO airCraftTypes \n",
    "  (iataSub,Manufacturers_idManufacturer, longDescription, shortDescription) \n",
    "  VALUES \n",
    "  ('{row['iataSub']}',{idManufacturer}, '{row['longDescription']}','{row['shortDescription']}')\"\"\")\n",
    "  # check if an aircraftType has been inserted without name, and update with the name as well\n",
    "  cursor.execute(f\"SELECT longDescription FROM AircraftTypes WHERE Manufacturers_idManufacturer={idManufacturer} AND iataSub = '{row['iataSub']}'\")\n",
    "  if len(cursor.fetchall()) == 0:\n",
    "    cursor.execute(f\"UPDATE AircraftTypes set longDescription = '{row['longDescription']}', shortDescription= '{row['shortDescription']}' WHERE Manufacturers_idManufacturer={idManufacturer} AND iataSub = '{row['iataSub']}'\")\n",
    "\n",
    "\n",
    "  \n",
    "  "
   ]
  },
  {
   "cell_type": "code",
   "execution_count": 6,
   "metadata": {},
   "outputs": [],
   "source": [
    "# airlines\n",
    "res=requests.get(url = url+\"/airlines\", headers=headers)\n",
    "airlines = pd.DataFrame(json.loads(res.content)['airlines'])\n",
    "# insert iata codes\n",
    "for iata in airlines['iata'].unique():\n",
    "  cursor.execute(f\"INSERT IGNORE INTO Airline_IATA_codes (Airline_IATA_code) VALUES ('{iata}')\")\n",
    "# insert airlines\n",
    "for i, row in airlines.iterrows():\n",
    "  idIATA = select_id('idAirline_IATA_code','Airline_IATA_codes','Airline_IATA_code',row['iata'])\n",
    "  cursor.execute(f\"INSERT IGNORE INTO Airlines (Airline_IATA_codes_idAirline_IATA_code, ICAO, NVLS, publicName) VALUES ({idIATA},'{row['icao']}',{row['nvls']},'{row['publicName']}')\")\n",
    "  # check if an airline has been inserted for a flight already, and update with the name and nvls as well\n",
    "  cursor.execute(f\"SELECT publicName FROM Airlines WHERE Airline_IATA_codes_idAirline_IATA_code={idIATA} AND ICAO = '{row['icao']}'\")\n",
    "  if len(cursor.fetchall()) == 0:\n",
    "    cursor.execute(f\"UPDATE Airlines set publicName = '{row['publicName']}', NVLS= {row['nvls']} WHERE Airline_IATA_codes_idAirline_IATA_code={idIATA} AND ICAO = '{row['icao']}'\")\n"
   ]
  },
  {
   "cell_type": "code",
   "execution_count": 7,
   "metadata": {},
   "outputs": [],
   "source": [
    "# airports\n",
    "res=requests.get(url = url+\"/destinations\", headers=headers)\n",
    "destinations = pd.DataFrame(json.loads(res.content)['destinations'])\n",
    "# insert countries\n",
    "for country in destinations['country'].unique():\n",
    "  cursor.execute(f'INSERT IGNORE INTO Countries (country) VALUES (\"{country}\")')\n",
    "# insert cities\n",
    "for i,row in destinations[['country','city']].drop_duplicates().iterrows():\n",
    "  if row['country']:\n",
    "    idCountry = select_id('idCountry','Countries','country',row['country'])\n",
    "  else:\n",
    "    idCountry = 'null'\n",
    "  if row['city']:\n",
    "    cursor.execute(f'INSERT IGNORE INTO Cities (Countries_idCountry,city) VALUES ({idCountry},\"{row[\"city\"]}\")')\n",
    "# insert airports\n",
    "for i,row in destinations.iterrows():\n",
    "  # retrieve idCountry\n",
    "  if row['country']:\n",
    "    idCountry = select_id('idCountry','Countries','country',row['country'])\n",
    "  else:\n",
    "    idCountry = 'null'\n",
    "  # retrieve idCity, taking also the country into consideration\n",
    "  if row['city']:\n",
    "    cursor.execute(f'SELECT idCity FROM Cities WHERE Countries_idCountry = {idCountry} AND city = \"{row[\"city\"]}\"')\n",
    "    try:\n",
    "      idCity = cursor.fetchone()[0]\n",
    "    except:\n",
    "      idCity = 'null'\n",
    "  else:\n",
    "    idCity = 'null'\n",
    "  cursor.execute(f\"\"\"INSERT IGNORE INTO Airports \n",
    "  (IATA_code, Cities_idCity, publicName_dutch, publicName_english, Countries_idCountry)\n",
    "  VALUES\n",
    "  (\"{row['iata']}\",{idCity},\"{row['publicName']['dutch']}\",\"{row['publicName']['english']}\",{idCountry})\"\"\")\n",
    "  # check if aiport is already in database without name, if so, update\n",
    "  cursor.execute(f\"SELECT * FROM Airports WHERE IATA_code = '{row['iata']}'\")\n",
    "  if len(cursor.fetchall()) == 0:\n",
    "    cursor.execute(f\"\"\"UPDATE Airports set \n",
    "    Cities_idCity={idCity},publicName_dutch=\"{row['publicName']['dutch']}\",publicName_english=\"{row['publicName']['english']}\",Countries_idCountry={idCountry} \n",
    "    WHERE IATA_code = '{row['iata']}'\"\"\")"
   ]
  },
  {
   "cell_type": "code",
   "execution_count": 8,
   "metadata": {},
   "outputs": [],
   "source": [
    "# flights\n",
    "res=requests.get(url = url+\"/flights\", headers=headers)\n",
    "flights = pd.DataFrame(json.loads(res.content)['flights'])\n",
    "for iata in flights['prefixIATA'].unique():\n",
    "  cursor.execute(f\"\"\"INSERT IGNORE INTO Airline_IATA_codes (Airline_IATA_code) VALUES ('{iata}')\"\"\")\n",
    "for i,row in flights[['prefixIATA','prefixICAO']].drop_duplicates().iterrows():\n",
    "  idIata = select_id('idAirline_IATA_code','Airline_IATA_codes','Airline_IATA_code',row['prefixIATA'])\n",
    "  cursor.execute(f\"\"\"INSERT IGNORE INTO Airlines (Airline_IATA_codes_idAirline_IATA_code, ICAO) VALUES ('{idIata}','{row['prefixICAO']}')\"\"\")\n",
    "for i,row in flights.iterrows():\n",
    "  # retrieve idAirline, taking the ICAO and overcoupling IATA into account\n",
    "  cursor.execute(f\"\"\"SELECT idAirline FROM Airlines LEFT JOIN Airline_IATA_codes ON \n",
    "  Airline_IATA_codes_idAirline_IATA_code=idAirline_IATA_code WHERE ICAO = '{row['prefixICAO']}' AND Airline_IATA_code = '{row[\"prefixIATA\"]}' \"\"\")\n",
    "  idAirline = cursor.fetchone()[0]\n",
    "  cursor.execute(f\"INSERT IGNORE INTO flightNumbers (idflightNumber, Airlines_idAirline) VALUES ({row['flightNumber']}, {idAirline})\")\n",
    "  # insert individual destinations and connect them with the flightNumber\n",
    "  for destination in row['route']['destinations']:\n",
    "    cursor.execute(f\"INSERT IGNORE INTO Airports (IATA_code) VALUES ('{destination}')\")\n",
    "    idAirport = select_id('idAirport','Airports','IATA_code',destination)\n",
    "    cursor.execute(f\"INSERT IGNORE INTO flightNumbers_has_Airports (flightNumbers_idflightNumber, Airports_idAirport) VALUES ({row['flightNumber']},{idAirport})\")\n",
    "\n",
    "  # insert aircrafttype in case it is not in the db yet\n",
    "  cursor.execute(f\"INSERT IGNORE INTO Manufacturers (iataMain) VALUES ('{row['aircraftType']['iataMain']}')\")\n",
    "  idManufacturer = select_id('idManufacturer','Manufacturers','iataMain',row['aircraftType']['iataMain'])\n",
    "  cursor.execute(f\"\"\"INSERT IGNORE INTO airCraftTypes \n",
    "  (iataSub,Manufacturers_idManufacturer) \n",
    "  VALUES \n",
    "  ('{row['aircraftType']['iataSub']}',{idManufacturer})\"\"\")\n",
    "  # retrieve idAircraftType, taking the manufacturer and iataSub into account\n",
    "  cursor.execute(f\"\"\"SELECT idAircraftType FROM AircraftTypes LEFT JOIN Manufacturers ON \n",
    "  Manufacturers_idManufacturer=idManufacturer WHERE iataMain = '{row['aircraftType']['iataMain']}' AND iataSub = '{row[\"aircraftType\"]['iataSub']}' \"\"\")\n",
    "  idAircraftType = cursor.fetchone()[0]\n",
    "  # insert the flight info update\n",
    "  cursor.execute(f\"\"\"INSERT IGNORE INTO FlightInfo \n",
    "  (idFlightInfo, AircraftTypes_idAircraftType, flightNumbers_idflightNumber, scheduleDateTime, lastUpdatedAt, actualLandingTime, \n",
    "  actualOffBlockTime, estimatedLandingTime, flightDirection, publicEstimatedOffBlockTime)\n",
    "  VALUES\n",
    "  ({row['id']},{idAircraftType}, {row['flightNumber']},'{row['scheduleDateTime']}','{row['lastUpdatedAt']}','{row['actualLandingTime']}',\n",
    "  '{row['actualOffBlockTime']}','{row['estimatedLandingTime']}','{row['flightDirection']}','{row['publicEstimatedOffBlockTime']}')\"\"\")"
   ]
  },
  {
   "cell_type": "code",
   "execution_count": 9,
   "metadata": {},
   "outputs": [],
   "source": [
    "con.commit()"
   ]
  },
  {
   "cell_type": "code",
   "execution_count": 10,
   "metadata": {},
   "outputs": [],
   "source": [
    "con.close()"
   ]
  }
 ],
 "metadata": {
  "interpreter": {
   "hash": "a8fccdb2e0052ffbb7f0e782c1450fe06044c28e211a94b21bff2e7715bf8313"
  },
  "kernelspec": {
   "display_name": "Python 3.8.2 ('my-r-env')",
   "language": "python",
   "name": "python3"
  },
  "language_info": {
   "codemirror_mode": {
    "name": "ipython",
    "version": 3
   },
   "file_extension": ".py",
   "mimetype": "text/x-python",
   "name": "python",
   "nbconvert_exporter": "python",
   "pygments_lexer": "ipython3",
   "version": "3.7.4"
  },
  "orig_nbformat": 4
 },
 "nbformat": 4,
 "nbformat_minor": 2
}
